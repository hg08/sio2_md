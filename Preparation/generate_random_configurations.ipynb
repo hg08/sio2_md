{
 "cells": [
  {
   "cell_type": "code",
   "execution_count": 152,
   "id": "b18d0326",
   "metadata": {},
   "outputs": [],
   "source": [
    "import numpy as np\n",
    "import random"
   ]
  },
  {
   "cell_type": "code",
   "execution_count": 153,
   "id": "7623f546",
   "metadata": {},
   "outputs": [
    {
     "name": "stdout",
     "output_type": "stream",
     "text": [
      "Done!\n"
     ]
    }
   ],
   "source": [
    "name = \"sio2.dat\"\n",
    "file_o = open(name,\"w\")\n",
    "a = 35.1\n",
    "pcharge = 2.4\n",
    "ncharge = -1.2\n",
    "for i in range(1,1001):\n",
    "    file_o.write('{} 1 {} {} {} {}\\n'.format(i, pcharge, a*np.random.uniform(0,1), a*np.random.uniform(0,1), a*np.random.uniform(0,1) )) \n",
    "    \n",
    "for i in range(1001,3001):\n",
    "    file_o.write('{} 2 {} {} {} {}\\n '.format(i, ncharge, a*np.random.uniform(0,1), a*np.random.uniform(0,1), a*np.random.uniform(0,1) ))        \n",
    "    \n",
    "file_o.close()  \n",
    "print(\"Done!\")"
   ]
  },
  {
   "cell_type": "code",
   "execution_count": 154,
   "id": "867139cb",
   "metadata": {},
   "outputs": [
    {
     "name": "stdout",
     "output_type": "stream",
     "text": [
      "Done!\n"
     ]
    }
   ],
   "source": [
    "# The second format: SiO2.xyz\n",
    "name = \"SiO2.xyz\"\n",
    "file_o = open(name,\"w\")\n",
    "a = 35.1\n",
    "file_o.write('3000\\n')\n",
    "file_o.write('i = 0, time = 0.000 E = 0.000\\n')\n",
    "for i in range(1,1001):\n",
    "    file_o.write('Si {} {} {}\\n'.format(a*np.random.uniform(0,1), a*np.random.uniform(0,1), a*np.random.uniform(0,1) )) \n",
    "    \n",
    "for i in range(1001,3001):\n",
    "    file_o.write('O {} {} {}\\n '.format(a*np.random.uniform(0,1), a*np.random.uniform(0,1), a*np.random.uniform(0,1) ))        \n",
    "    \n",
    "file_o.close()  \n",
    "print(\"Done!\")"
   ]
  },
  {
   "cell_type": "code",
   "execution_count": 155,
   "id": "3f9051b8",
   "metadata": {},
   "outputs": [
    {
     "name": "stdout",
     "output_type": "stream",
     "text": [
      "Done!\n"
     ]
    }
   ],
   "source": [
    "a = 35.1\n",
    "num_si = 1000\n",
    "num_o = 2000\n",
    "pcharge = 2.4\n",
    "ncharge = -1.2\n",
    "num = num_si + num_o\n",
    "pos_si = a * np.random.uniform(0,1,3*num_si).reshape(3,num_si)\n",
    "pos_o = a * np.random.uniform(0,1,3*num_o).reshape(3,num_o)\n",
    "\n",
    "\n",
    "name = \"SiO2_.dat\"\n",
    "file_o = open(name,\"w\")\n",
    "\n",
    "for i in range(num_si):\n",
    "    file_o.write('{} 1 {} {} {} {}\\n'.format(i+1, pcharge, pos_si[0][i], pos_si[1][i],pos_si[2][i] )) \n",
    "    \n",
    "for i in range(num_o):\n",
    "    file_o.write('{} 2 {} {} {} {}\\n '.format(num_si+i+1, ncharge, pos_o[0][i],pos_o[1][i],pos_o[2][i] ))        \n",
    "file_o.close()  \n",
    "print(\"Done!\")"
   ]
  },
  {
   "cell_type": "code",
   "execution_count": 156,
   "id": "46813aa2",
   "metadata": {},
   "outputs": [
    {
     "name": "stdout",
     "output_type": "stream",
     "text": [
      "Done!\n"
     ]
    }
   ],
   "source": [
    "# The second format: SiO2_.xyz\n",
    "# With 3D array.\n",
    "a = 35.1\n",
    "num_si = 1000\n",
    "num_o = 2000\n",
    "num = num_si + num_o\n",
    "pos_si = a * np.random.uniform(0,1,3*num_si).reshape(3,num_si)\n",
    "pos_o = a * np.random.uniform(0,1,3*num_o).reshape(3,num_o)\n",
    "\n",
    "name = \"SiO2_.xyz\"\n",
    "file_o = open(name,\"w\")\n",
    "file_o.write('3000\\n')\n",
    "file_o.write('i = 0, time = 0.000 E = 0.000\\n')\n",
    "\n",
    "for i in range(num_si):\n",
    "    file_o.write('Si {} {} {}\\n'.format(pos_si[0][i], pos_si[1][i],pos_si[2][i] )) \n",
    "    \n",
    "for i in range(num_o):\n",
    "    file_o.write('O {} {} {}\\n '.format(pos_o[0][i],pos_o[1][i],pos_o[2][i] ))        \n",
    "file_o.close() \n",
    "\n",
    "print(\"Done!\")"
   ]
  },
  {
   "cell_type": "markdown",
   "id": "563324b3",
   "metadata": {},
   "source": [
    "# 2 Generating fully random coordinates is not a good idea?"
   ]
  },
  {
   "cell_type": "markdown",
   "id": "07e20d23",
   "metadata": {},
   "source": [
    "If we just randomly generate the intial configuration. Because the atoms may overlap, there may be error. To avoid this problem, now, we divide the simulation box into many domains, and put one atom randomly into each domain."
   ]
  },
  {
   "cell_type": "code",
   "execution_count": 157,
   "id": "796bd654",
   "metadata": {},
   "outputs": [
    {
     "name": "stdout",
     "output_type": "stream",
     "text": [
      "[ 0  1  2  3  4  5  6  7  8  9 10 11 12 13 14 15 16]\n",
      "[ 0  1  2  3  4  5  6  7  8  9 10 11 12 13 14 15 16]\n",
      "[ 0  1  2  3  4  5  6  7  8  9 10 11 12 13 14 15 16]\n"
     ]
    }
   ],
   "source": [
    "import math\n",
    "\n",
    "gap = 2 \n",
    "a = 35.1 / gap\n",
    "b = a\n",
    "c = a\n",
    "num_si = 1000\n",
    "num_o = 2000\n",
    "\n",
    "arr_a = np.array(range(math.floor(a)))\n",
    "arr_b = np.array(range(math.floor(b)))\n",
    "arr_c = np.array(range(math.floor(c)))\n",
    "print(arr_a)\n",
    "print(arr_b)\n",
    "print(arr_c)"
   ]
  },
  {
   "cell_type": "code",
   "execution_count": 158,
   "id": "1c3ad3eb",
   "metadata": {},
   "outputs": [
    {
     "name": "stdout",
     "output_type": "stream",
     "text": [
      "Done!\n"
     ]
    }
   ],
   "source": [
    "grids = [[gap*a0, gap*b0, gap*c0] for a0 in arr_a for b0 in arr_b for c0 in arr_c]\n",
    "\n",
    "# Shuffle is very important step, because we do not want put all Si atoms or Oxygen atoms together. \n",
    "random.shuffle(grids)\n",
    "\n",
    "name = \"sio2_grid.dat\"\n",
    "file_o = open(name,\"w\")\n",
    "\n",
    "for i in range(num_si):\n",
    "    coord = grids.pop() # To avoid that two atoms take the same cell, we use pop(), which make sure that there is only one atom in any cell.\n",
    "    file_o.write('{} 1 {} {} {} {}\\n'.format(i+1, pcharge, coord[0], coord[1], coord[2] )) \n",
    "    \n",
    "for i in range(num_si,num_o+num_si):\n",
    "    coord = grids.pop() \n",
    "    file_o.write('{} 2 {} {} {} {}\\n '.format(i+1, ncharge, coord[0], coord[1], coord[2] ))        \n",
    "file_o.close()  \n",
    "print(\"Done!\")"
   ]
  },
  {
   "cell_type": "code",
   "execution_count": 159,
   "id": "a7d0fae3",
   "metadata": {},
   "outputs": [
    {
     "name": "stdout",
     "output_type": "stream",
     "text": [
      "Done!\n"
     ]
    }
   ],
   "source": [
    "# Generate .xyz format coordinates.\n",
    "\n",
    "grids = [[gap*a0, gap*b0, gap*c0] for a0 in arr_a for b0 in arr_b for c0 in arr_c]\n",
    "\n",
    "# Shuffle is very important step, because we do not want put all Si atoms or Oxygen atoms together. \n",
    "random.shuffle(grids)\n",
    "\n",
    "name = \"sio2_grid.xyz\"\n",
    "file_o = open(name,\"w\")\n",
    "file_o.write('3000\\n')\n",
    "file_o.write('i = 0, time = 0.000 E = 0.000\\n')\n",
    "\n",
    "for i in range(num_si):\n",
    "    coord = grids.pop() # To avoid that two atoms take the same cell, we use pop(), which make sure that there is only one atom in any cell.\n",
    "    file_o.write('Si {} {} {}\\n'.format(coord[0], coord[1], coord[2])) \n",
    "    \n",
    "for i in range(num_si, num_o+num_si):\n",
    "    coord = grids.pop()\n",
    "    file_o.write('O {} {} {}\\n '.format(coord[0], coord[1], coord[2]))        \n",
    "file_o.close() \n",
    "\n",
    "print(\"Done!\")"
   ]
  },
  {
   "cell_type": "code",
   "execution_count": 160,
   "id": "e421f13f",
   "metadata": {},
   "outputs": [
    {
     "data": {
      "text/plain": [
       "42875"
      ]
     },
     "execution_count": 160,
     "metadata": {},
     "output_type": "execute_result"
    }
   ],
   "source": [
    "# The total number of sites\n",
    "35 * 35 * 35"
   ]
  },
  {
   "cell_type": "code",
   "execution_count": 161,
   "id": "6baba585",
   "metadata": {},
   "outputs": [
    {
     "data": {
      "text/plain": [
       "4913"
      ]
     },
     "execution_count": 161,
     "metadata": {},
     "output_type": "execute_result"
    }
   ],
   "source": [
    "17 * 17 * 17"
   ]
  },
  {
   "cell_type": "code",
   "execution_count": null,
   "id": "a903f4f2",
   "metadata": {},
   "outputs": [],
   "source": []
  },
  {
   "cell_type": "code",
   "execution_count": null,
   "id": "2076555c",
   "metadata": {},
   "outputs": [],
   "source": []
  }
 ],
 "metadata": {
  "kernelspec": {
   "display_name": "Python 3",
   "language": "python",
   "name": "python3"
  },
  "language_info": {
   "codemirror_mode": {
    "name": "ipython",
    "version": 3
   },
   "file_extension": ".py",
   "mimetype": "text/x-python",
   "name": "python",
   "nbconvert_exporter": "python",
   "pygments_lexer": "ipython3",
   "version": "3.8.8"
  }
 },
 "nbformat": 4,
 "nbformat_minor": 5
}
