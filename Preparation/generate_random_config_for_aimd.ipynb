{
 "cells": [
  {
   "cell_type": "code",
   "execution_count": 17,
   "id": "fa55e310",
   "metadata": {},
   "outputs": [],
   "source": [
    "import numpy as np"
   ]
  },
  {
   "cell_type": "code",
   "execution_count": 22,
   "id": "bc94c673",
   "metadata": {},
   "outputs": [],
   "source": [
    "a = 35.1\n",
    "num = 300\n",
    "num_si = 100\n",
    "num_o = 200"
   ]
  },
  {
   "cell_type": "markdown",
   "id": "923f5acf",
   "metadata": {},
   "source": [
    "If we set the total number of atoms is $num=300$. Please calculate the length ($a$) of the simulation box."
   ]
  },
  {
   "cell_type": "code",
   "execution_count": 23,
   "id": "8bc79f07",
   "metadata": {},
   "outputs": [],
   "source": [
    "a = np.power(a,3)/10"
   ]
  },
  {
   "cell_type": "code",
   "execution_count": 24,
   "id": "26c5cacd",
   "metadata": {},
   "outputs": [
    {
     "data": {
      "text/plain": [
       "4324.355100000001"
      ]
     },
     "execution_count": 24,
     "metadata": {},
     "output_type": "execute_result"
    }
   ],
   "source": [
    "a"
   ]
  },
  {
   "cell_type": "code",
   "execution_count": 25,
   "id": "07effd24",
   "metadata": {},
   "outputs": [
    {
     "data": {
      "text/plain": [
       "16.291976805980852"
      ]
     },
     "execution_count": 25,
     "metadata": {},
     "output_type": "execute_result"
    }
   ],
   "source": [
    "a = a**(1/3)\n",
    "a"
   ]
  },
  {
   "cell_type": "code",
   "execution_count": 27,
   "id": "0c80ed18",
   "metadata": {},
   "outputs": [
    {
     "name": "stdout",
     "output_type": "stream",
     "text": [
      "Done!\n"
     ]
    }
   ],
   "source": [
    "# The second format: SiO2_.xyz\n",
    "# With 3D array.\n",
    "num_si = 100\n",
    "num_o = 200\n",
    "num = num_si + num_o\n",
    "pos_si = a * np.random.uniform(0,1,3*num_si).reshape(3,num_si)\n",
    "pos_o = a * np.random.uniform(0,1,3*num_o).reshape(3,num_o)\n",
    "\n",
    "name = \"SiO2_aimd.xyz\"\n",
    "file_o = open(name,\"w\")\n",
    "file_o.write('{}\\n'.format(num))\n",
    "file_o.write('i = 0, time = 0.000 E = 0.000\\n')\n",
    "\n",
    "for i in range(num_si):\n",
    "    file_o.write('Si {} {} {}\\n'.format(pos_si[0][i], pos_si[1][i],pos_si[2][i] )) \n",
    "    \n",
    "for i in range(num_o):\n",
    "    file_o.write('O {} {} {}\\n '.format(pos_o[0][i],pos_o[1][i],pos_o[2][i] ))        \n",
    "file_o.close() \n",
    "\n",
    "print(\"Done!\")"
   ]
  },
  {
   "cell_type": "code",
   "execution_count": null,
   "id": "31ddb6af",
   "metadata": {},
   "outputs": [],
   "source": []
  }
 ],
 "metadata": {
  "kernelspec": {
   "display_name": "Python 3",
   "language": "python",
   "name": "python3"
  },
  "language_info": {
   "codemirror_mode": {
    "name": "ipython",
    "version": 3
   },
   "file_extension": ".py",
   "mimetype": "text/x-python",
   "name": "python",
   "nbconvert_exporter": "python",
   "pygments_lexer": "ipython3",
   "version": "3.8.8"
  }
 },
 "nbformat": 4,
 "nbformat_minor": 5
}
